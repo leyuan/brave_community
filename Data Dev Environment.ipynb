{
 "cells": [
  {
   "cell_type": "markdown",
   "metadata": {},
   "source": [
    "## 10X Dev Environment\n",
    "\n",
    "### Terminal\n",
    "- Plugins: fzf, autojump, autosuggestions, autohighlight\n",
    "- For Mac: brew\n",
    "    - brew install fzf, autojump, autosuggestions, autohighlight\n",
    "- Conda\n",
    "    - Mini Conda\n",
    "    - Anaconda\n",
    "\n",
    "### VSCode/Python/Jupyter\n",
    "- standard: pep8\n",
    "```python\n",
    "def small_small():\n",
    "    return None\n",
    "```\n",
    "\n",
    "- linter\n",
    "- formatter\n",
    "- requirements.txt\n",
    "- some shortcuts (vscode, jupyter)\n",
    "\n",
    "### Git\n",
    "- branch\n",
    "- pull request\n",
    "\n",
    "### About This Event\n",
    "- Speaker: Leyuan\n",
    "    - By day: Senior Machine Learning Scientist at Coursera\n",
    "    - At night: Founder at Brave Career (https://bravecareer.io)\n",
    "- Hackathon in Aug:\n",
    "    - https://www.eventbrite.com/e/ai-odyssey-braves-chatgpt-hackathon-tickets-679123415417"
   ]
  },
  {
   "cell_type": "markdown",
   "metadata": {},
   "source": []
  }
 ],
 "metadata": {
  "language_info": {
   "name": "python"
  },
  "orig_nbformat": 4
 },
 "nbformat": 4,
 "nbformat_minor": 2
}
