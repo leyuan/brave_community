{
 "cells": [
  {
   "cell_type": "markdown",
   "id": "c235e2e0",
   "metadata": {},
   "source": [
    "## Python Class Fundamentals\n",
    "\n",
    "- Motivation: readability, modularized, encapsulation (easy to use others) \n",
    "- Examples\n",
    "    - Class\n",
    "    - Instance\n",
    "    - Inheritance\n",
    "    \n",
    "- Exercise: https://docs.google.com/document/d/1kvYYM7RVz0orBwfcseoQDwiljTvG2WLvd35K8Bebm2E/edit?usp=sharing"
   ]
  },
  {
   "cell_type": "code",
   "execution_count": 11,
   "id": "69db8ec4",
   "metadata": {},
   "outputs": [],
   "source": [
    "import pandas as pd"
   ]
  },
  {
   "cell_type": "code",
   "execution_count": 69,
   "id": "688ef0d0",
   "metadata": {},
   "outputs": [],
   "source": [
    "# class definition\n",
    "class Dog:\n",
    "    def __init__(self, name): #dunder method / magic method\n",
    "        self.name = name # attributes of the class\n",
    "    \n",
    "    def bark(self, content):\n",
    "        print(f\"{self.name} says {content}\")\n",
    "\n",
    "# inheritance\n",
    "class Husky(Dog):\n",
    "    def __init__(self, name, age):\n",
    "        self.name = name\n",
    "        self.age = age\n",
    "        \n",
    "    def bark(self, content):\n",
    "        super().bark(content)\n",
    "        print(f\"My age is {self.age}\")"
   ]
  },
  {
   "cell_type": "code",
   "execution_count": 70,
   "id": "f185215f",
   "metadata": {},
   "outputs": [
    {
     "name": "stdout",
     "output_type": "stream",
     "text": [
      "sg says woof\n",
      "My age is 6\n"
     ]
    }
   ],
   "source": [
    "small_grey = Husky(name=\"sg\", age=6)\n",
    "small_grey.bark(content=\"woof\")"
   ]
  },
  {
   "cell_type": "code",
   "execution_count": null,
   "id": "ad87300a",
   "metadata": {},
   "outputs": [],
   "source": []
  },
  {
   "cell_type": "code",
   "execution_count": 30,
   "id": "eddbcfd4",
   "metadata": {},
   "outputs": [],
   "source": [
    "# instantiate\n",
    "big_yellow = Dog(name=\"big_yellow\")\n",
    "xiao_hua = Dog(name=\"xiao_hua\")"
   ]
  },
  {
   "cell_type": "code",
   "execution_count": 31,
   "id": "8bccb2ed",
   "metadata": {},
   "outputs": [
    {
     "data": {
      "text/plain": [
       "__main__.Dog"
      ]
     },
     "execution_count": 31,
     "metadata": {},
     "output_type": "execute_result"
    }
   ],
   "source": [
    "type(big_yellow)"
   ]
  },
  {
   "cell_type": "code",
   "execution_count": 32,
   "id": "7e98d007",
   "metadata": {},
   "outputs": [
    {
     "name": "stdout",
     "output_type": "stream",
     "text": [
      "big_yellow says woof woof\n"
     ]
    }
   ],
   "source": [
    "big_yellow.bark(\"woof woof\")"
   ]
  },
  {
   "cell_type": "code",
   "execution_count": null,
   "id": "6c40824b",
   "metadata": {},
   "outputs": [],
   "source": []
  },
  {
   "cell_type": "code",
   "execution_count": null,
   "id": "4bb62e92",
   "metadata": {},
   "outputs": [],
   "source": []
  },
  {
   "cell_type": "code",
   "execution_count": null,
   "id": "acf7eeb8",
   "metadata": {},
   "outputs": [],
   "source": []
  },
  {
   "cell_type": "code",
   "execution_count": null,
   "id": "cf03bd13",
   "metadata": {},
   "outputs": [],
   "source": []
  },
  {
   "cell_type": "markdown",
   "id": "5d1afcd7",
   "metadata": {},
   "source": [
    "Splendor is a card-based board game where players buy cards in exchange for colored gems. In this game, today, we care about two things, gems and cards.\n",
    "\n",
    "Players can have any number of gems of five different colors: (B)lue, (W)hite, (G)reen, (R)ed, and (Y)ellow.\n",
    "\n",
    "Players can exchange gems for cards. A card appears as such:\n",
    "\n",
    "+----------+\n",
    "| G |\n",
    "| |\n",
    "| |\n",
    "| 3W |\n",
    "| 2G |\n",
    "| 1R |\n",
    "+----------+\n",
    "\n",
    "This indicates that the card costs 3 (W)hite gems, 2 (G)reen gems, and 1 (R)ed. The “G” in the upper right indicates the color of the card (this will be useful later)\n",
    "\n",
    "For this entire problem, we want to keep things simple by assuming that there is only one player.\n",
    "\n",
    "The data model and structure of the program is up to you.\n",
    "\n",
    "Q1\n",
    "\n",
    "We want to write a function can_purchase() such that, given a particular card and collection of gems for a player, we return true if the player can afford the card, and false if they cannot.\n",
    "\n",
    "Q2\n",
    "\n",
    "We want to write a function purchase() such that, given a particular card and collection of gems for a player, we add the card to the players hand and subtract the cost from the players gems, if they are able to afford the card. The function should return true if the player can afford the card, and false if they cannot.\n"
   ]
  },
  {
   "cell_type": "code",
   "execution_count": null,
   "id": "8f47efc1",
   "metadata": {},
   "outputs": [],
   "source": [
    "class Card:\n",
    "    pass"
   ]
  },
  {
   "cell_type": "code",
   "execution_count": 50,
   "id": "14cd327b",
   "metadata": {},
   "outputs": [],
   "source": [
    "class Player:\n",
    "    def __init__(self, gems={}, cards=[]):\n",
    "        self.gems = gems\n",
    "        self.cards = []"
   ]
  },
  {
   "cell_type": "code",
   "execution_count": null,
   "id": "c7078cfd",
   "metadata": {},
   "outputs": [],
   "source": []
  },
  {
   "cell_type": "code",
   "execution_count": null,
   "id": "d5ab3c22",
   "metadata": {},
   "outputs": [],
   "source": [
    "card = {\n",
    "    'Card1': {'W': 3, 'G': 2, 'R': 1, 'B': 4},\n",
    "    'Card2': {'W': 2, 'G': 1, 'R': 3, 'B': 2},\n",
    "    'Card3': {'W': 1, 'G': 4, 'R': 2, 'B': 3},\n",
    "    'Card4': {'W': 4, 'G': 3, 'R': 2, 'B': 1}\n",
    "}\n",
    "gems = {'W': 4, 'G': 2, 'R': 1, 'B': 1}"
   ]
  },
  {
   "cell_type": "code",
   "execution_count": null,
   "id": "108da5bc",
   "metadata": {},
   "outputs": [],
   "source": []
  },
  {
   "cell_type": "code",
   "execution_count": 63,
   "id": "428d83f0",
   "metadata": {},
   "outputs": [],
   "source": [
    "class Player:\n",
    "    def __init__(self, gems={}, cards=[]):\n",
    "        self.gems = gems\n",
    "        self.cards = cards\n",
    "    \n",
    "green_card = {'W': 3, 'G': 6, 'R': 1, 'B': 4}\n",
    "    \n",
    "def can_purchase(p:Player, c:dict)->bool:\n",
    "    # for each color of the card, we check the player has enough gems of this color\n",
    "    # if yes -> keep checking till the end\n",
    "    # if no -> return False\n",
    "    \n",
    "    for color in c:\n",
    "        p_gems = p.gems.get(color, 0)\n",
    "        \n",
    "        if p_gems < c[color]:\n",
    "            return False\n",
    "        \n",
    "        return True\n",
    "\n",
    "def purchase(p:Player, c:dict)->bool:\n",
    "    if can_purchase(p, c):\n",
    "        for color in c:\n",
    "            p.gems[color] = p.gems[color] - c[color]\n",
    "            \n",
    "        p.cards.append(c)\n",
    "        return True\n",
    "    else:\n",
    "        return False\n",
    "rich_guy = Player(gems={'W': 1000, 'G': 1000, 'R': 1000, 'B': 1000, 'Y':1000}, cards=[])\n",
    "assert can_purchase(rich_guy, green_card) == True"
   ]
  },
  {
   "cell_type": "code",
   "execution_count": 65,
   "id": "f8d2b92c",
   "metadata": {},
   "outputs": [
    {
     "data": {
      "text/plain": [
       "True"
      ]
     },
     "execution_count": 65,
     "metadata": {},
     "output_type": "execute_result"
    }
   ],
   "source": [
    "purchase(rich_guy, green_card)"
   ]
  },
  {
   "cell_type": "code",
   "execution_count": 66,
   "id": "35273884",
   "metadata": {},
   "outputs": [
    {
     "data": {
      "text/plain": [
       "{'W': 997, 'G': 994, 'R': 999, 'B': 996, 'Y': 1000}"
      ]
     },
     "execution_count": 66,
     "metadata": {},
     "output_type": "execute_result"
    }
   ],
   "source": [
    "rich_guy.gems"
   ]
  },
  {
   "cell_type": "code",
   "execution_count": 67,
   "id": "5112efe3",
   "metadata": {},
   "outputs": [
    {
     "data": {
      "text/plain": [
       "[{'W': 3, 'G': 6, 'R': 1, 'B': 4}]"
      ]
     },
     "execution_count": 67,
     "metadata": {},
     "output_type": "execute_result"
    }
   ],
   "source": [
    "rich_guy.cards"
   ]
  },
  {
   "cell_type": "code",
   "execution_count": 58,
   "id": "0996f83c",
   "metadata": {},
   "outputs": [],
   "source": [
    "poor_guy = Player(gems={})"
   ]
  },
  {
   "cell_type": "code",
   "execution_count": 62,
   "id": "d958ab3d",
   "metadata": {},
   "outputs": [],
   "source": [
    "assert can_purchase(poor_guy, green_card) == False"
   ]
  },
  {
   "cell_type": "code",
   "execution_count": null,
   "id": "5a05382d",
   "metadata": {},
   "outputs": [],
   "source": []
  },
  {
   "cell_type": "code",
   "execution_count": null,
   "id": "e56fe131",
   "metadata": {},
   "outputs": [],
   "source": []
  },
  {
   "cell_type": "code",
   "execution_count": null,
   "id": "8828ad02",
   "metadata": {},
   "outputs": [],
   "source": []
  },
  {
   "cell_type": "code",
   "execution_count": null,
   "id": "e2712f6b",
   "metadata": {},
   "outputs": [],
   "source": []
  },
  {
   "cell_type": "code",
   "execution_count": null,
   "id": "ac07611b",
   "metadata": {},
   "outputs": [],
   "source": []
  },
  {
   "cell_type": "code",
   "execution_count": null,
   "id": "f256f8dc",
   "metadata": {},
   "outputs": [],
   "source": []
  },
  {
   "cell_type": "code",
   "execution_count": null,
   "id": "bc3a6278",
   "metadata": {},
   "outputs": [],
   "source": []
  },
  {
   "cell_type": "code",
   "execution_count": null,
   "id": "d3756da8",
   "metadata": {},
   "outputs": [],
   "source": []
  },
  {
   "cell_type": "code",
   "execution_count": null,
   "id": "91b7bf96",
   "metadata": {},
   "outputs": [],
   "source": []
  },
  {
   "cell_type": "code",
   "execution_count": null,
   "id": "ff277020",
   "metadata": {},
   "outputs": [],
   "source": []
  },
  {
   "cell_type": "code",
   "execution_count": null,
   "id": "a168ae89",
   "metadata": {},
   "outputs": [],
   "source": []
  },
  {
   "cell_type": "code",
   "execution_count": null,
   "id": "8fb040ce",
   "metadata": {},
   "outputs": [],
   "source": []
  },
  {
   "cell_type": "code",
   "execution_count": null,
   "id": "d2d233d5",
   "metadata": {},
   "outputs": [],
   "source": []
  },
  {
   "cell_type": "code",
   "execution_count": null,
   "id": "aa4a3873",
   "metadata": {},
   "outputs": [],
   "source": []
  },
  {
   "cell_type": "code",
   "execution_count": null,
   "id": "1a8a8d6f",
   "metadata": {},
   "outputs": [],
   "source": [
    "from collections import defaultdict\n",
    "\n",
    "class Card:\n",
    "    def __init__(self, color_to_count = [], color = ''):\n",
    "        self.color_to_count = color_to_count\n",
    "        self.color = ''\n",
    "\n",
    "class Person:\n",
    "    def __init__(self, color_to_count = []):\n",
    "        self.color_to_count = color_to_count\n",
    "        self.cards = []\n",
    "        self.cardcolor_to_count = defaultdict(int)\n",
    "    \n",
    "    def can_purchase(self, card):\n",
    "        for color,count in card.color_to_count.items():\n",
    "            if color not in self.color_to_count or self.color_to_count[color] + self.cardcolor_to_count[color] < count:\n",
    "                return False\n",
    "        return True\n",
    "    \n",
    "    def addCard(self, card):\n",
    "        self.cards.append(card)\n",
    "        self.cardcolor_to_count[card.color]+=1\n",
    "        \n",
    "    def purchase(self, card):\n",
    "        if self.can_purchase(card):\n",
    "            for color,count in card.color_to_count.items():\n",
    "                count-=self.cardcolor_to_count[color]\n",
    "                self.color_to_count[color]-=count\n",
    "            self.addCard(card)    \n",
    "            return True\n",
    "        return False\n",
    "\n",
    "# Test\n",
    "color_to_count = {'green':2,'red':1,'white':3 }\n",
    "color_to_count_person = {'green':3,'red':2,'white':4 }\n",
    "card = Card(color_to_count, 'red')\n",
    "person = Person(color_to_count_person)"
   ]
  }
 ],
 "metadata": {
  "kernelspec": {
   "display_name": "Python 3 (ipykernel)",
   "language": "python",
   "name": "python3"
  },
  "language_info": {
   "codemirror_mode": {
    "name": "ipython",
    "version": 3
   },
   "file_extension": ".py",
   "mimetype": "text/x-python",
   "name": "python",
   "nbconvert_exporter": "python",
   "pygments_lexer": "ipython3",
   "version": "3.11.4"
  }
 },
 "nbformat": 4,
 "nbformat_minor": 5
}
